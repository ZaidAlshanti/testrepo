{
 "cells": [
  {
   "cell_type": "markdown",
   "id": "c6513125-c9c6-41e1-a90d-53d88207a6b6",
   "metadata": {
    "tags": []
   },
   "source": [
    "# Data Science Tools and Ecosystem"
   ]
  },
  {
   "cell_type": "markdown",
   "id": "2d3448b8-d68d-495a-8532-e072d5b69f21",
   "metadata": {},
   "source": [
    "In this notebook, Data Science Tools and Ecosystem are summarized."
   ]
  },
  {
   "cell_type": "markdown",
   "id": "9d272eed-5ba4-4f61-83cd-ba1f5257827e",
   "metadata": {},
   "source": [
    "Some of the popular languages that Data Scientists use are:"
   ]
  },
  {
   "cell_type": "markdown",
   "id": "41bd1e8b-79e6-4796-8a2a-4dd5d8355872",
   "metadata": {},
   "source": [
    "1. Python\n",
    "2. SQL\n",
    "3. R"
   ]
  },
  {
   "cell_type": "markdown",
   "id": "0f36b170-572e-4c2d-b1b7-d6150995fd6f",
   "metadata": {},
   "source": [
    "Some of the commonly used libraries used by Data Scientists include:"
   ]
  },
  {
   "cell_type": "markdown",
   "id": "319a9d10-974d-49c0-a7c1-a817bd8d2cdf",
   "metadata": {},
   "source": [
    "1. Numpy\n",
    "2. Pandas\n",
    "3. Pytorch"
   ]
  },
  {
   "cell_type": "markdown",
   "id": "ff3689be-cec4-4f22-a2a4-ccab37fbfc89",
   "metadata": {},
   "source": [
    "|Data Science Tools|\n",
    "|------------------|\n",
    "|Rstudio           |\n",
    "|JupyterNotebook   |\n",
    "|Github            |"
   ]
  },
  {
   "cell_type": "markdown",
   "id": "f2e827c9-7ca3-4259-a34b-7cfb3c711a06",
   "metadata": {},
   "source": [
    "### Below are a few examples of evaluating arithmetic expressions in Python"
   ]
  },
  {
   "cell_type": "markdown",
   "id": "63c5f576-8555-4ed2-b0b6-f9a83cb2f367",
   "metadata": {},
   "source": [
    "his a simple arithmetic expression to mutiply then add integers"
   ]
  },
  {
   "cell_type": "code",
   "execution_count": 1,
   "id": "9ad7ddc5-79f2-489d-8044-12f2c7052ed3",
   "metadata": {
    "tags": []
   },
   "outputs": [
    {
     "data": {
      "text/plain": [
       "17"
      ]
     },
     "execution_count": 1,
     "metadata": {},
     "output_type": "execute_result"
    }
   ],
   "source": [
    "(3*4)+5"
   ]
  },
  {
   "cell_type": "markdown",
   "id": "308457fa-a875-4a29-9f64-e7b7c73f2fbc",
   "metadata": {},
   "source": [
    " This will convert 200 minutes to hours by diving by 60"
   ]
  },
  {
   "cell_type": "code",
   "execution_count": 2,
   "id": "9cd55836-4a53-4355-8f23-8b0cf4616ecb",
   "metadata": {
    "tags": []
   },
   "outputs": [
    {
     "data": {
      "text/plain": [
       "3.3333333333333335"
      ]
     },
     "execution_count": 2,
     "metadata": {},
     "output_type": "execute_result"
    }
   ],
   "source": [
    "200/60"
   ]
  },
  {
   "cell_type": "markdown",
   "id": "242d4c83-835d-4926-818f-eb9567ecf5d4",
   "metadata": {},
   "source": [
    "**Objectives:**"
   ]
  },
  {
   "cell_type": "markdown",
   "id": "bde04799-f409-46f9-be7e-da7721b5fc6a",
   "metadata": {},
   "source": [
    "- List popular languages for Data Science.\n",
    "- List popular tools for Data Science.\n",
    "- Coding in R.\n",
    "- Coding in Git.\n",
    "- Markingdown in Jupyter.\n"
   ]
  },
  {
   "cell_type": "markdown",
   "id": "78722eb1-e807-431e-9342-d49074e4be16",
   "metadata": {},
   "source": [
    "## Author"
   ]
  },
  {
   "cell_type": "code",
   "execution_count": null,
   "id": "de28ad1a-d005-4e13-949e-9cd0b2280373",
   "metadata": {},
   "outputs": [],
   "source": []
  }
 ],
 "metadata": {
  "kernelspec": {
   "display_name": "Python",
   "language": "python",
   "name": "conda-env-python-py"
  },
  "language_info": {
   "codemirror_mode": {
    "name": "ipython",
    "version": 3
   },
   "file_extension": ".py",
   "mimetype": "text/x-python",
   "name": "python",
   "nbconvert_exporter": "python",
   "pygments_lexer": "ipython3",
   "version": "3.7.12"
  }
 },
 "nbformat": 4,
 "nbformat_minor": 5
}
